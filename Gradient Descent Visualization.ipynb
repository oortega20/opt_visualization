{
 "cells": [
  {
   "cell_type": "markdown",
   "id": "eastern-tower",
   "metadata": {},
   "source": [
    "# Gradient Descent Visualization"
   ]
  },
  {
   "cell_type": "code",
   "execution_count": null,
   "id": "hollywood-receiver",
   "metadata": {},
   "outputs": [],
   "source": [
    "from mpl_toolkits import mplot3d"
   ]
  },
  {
   "cell_type": "code",
   "execution_count": null,
   "id": "small-candy",
   "metadata": {},
   "outputs": [],
   "source": [
    "import matplotlib\n",
    "import numpy as np\n",
    "import matplotlib.pyplot as plt\n",
    "from matplotlib.animation import FuncAnimation, PillowWriter\n",
    "from IPython.display import HTML\n",
    "\n",
    "\n",
    "matplotlib.rcParams['animation.embed_limit'] = 4**128"
   ]
  },
  {
   "cell_type": "markdown",
   "id": "future-increase",
   "metadata": {},
   "source": [
    "### Function to be Optimized"
   ]
  },
  {
   "cell_type": "code",
   "execution_count": null,
   "id": "novel-alexander",
   "metadata": {},
   "outputs": [],
   "source": [
    "def f(x, y):\n",
    "    return (x / 4) ** 2 + (y / 2) ** 2\n",
    "\n",
    "def grad_f(x, y):\n",
    "    return np.array([2 * (x / 4), 2 * (y / 2)])\n"
   ]
  },
  {
   "cell_type": "markdown",
   "id": "forward-victor",
   "metadata": {},
   "source": [
    "### Optimizers to be used"
   ]
  },
  {
   "cell_type": "code",
   "execution_count": null,
   "id": "latin-virus",
   "metadata": {},
   "outputs": [],
   "source": [
    "def SGD(learning_rate):\n",
    "    def optimize(pt):\n",
    "        return pt - learning_rate * grad_f(*pt)\n",
    "    return optimize"
   ]
  },
  {
   "cell_type": "code",
   "execution_count": null,
   "id": "least-morris",
   "metadata": {},
   "outputs": [],
   "source": [
    "def SGD_momentum(learning_rate, beta):\n",
    "    v = np.array([0, 0])\n",
    "    def optimize(pt):\n",
    "        nonlocal v\n",
    "        v = beta * v - learning_rate * grad_f(*pt)\n",
    "        return pt + v\n",
    "    return optimize"
   ]
  },
  {
   "cell_type": "code",
   "execution_count": null,
   "id": "greatest-angola",
   "metadata": {},
   "outputs": [],
   "source": [
    "def SGD_nestorov(learning_rate, beta):\n",
    "    v = np.array([0, 0])\n",
    "    def optimize(pt):\n",
    "        nonlocal v\n",
    "        x_pt, y_pt = pt\n",
    "        x_mom, y_mom = beta * v\n",
    "        pt_lookahead = [x_pt + x_mom, y_pt + y_mom]\n",
    "        v = beta * v - learning_rate * grad_f(*pt_lookahead)\n",
    "        return pt + v\n",
    "    return optimize"
   ]
  },
  {
   "cell_type": "code",
   "execution_count": null,
   "id": "closing-booth",
   "metadata": {},
   "outputs": [],
   "source": [
    "def RMS_prop(learning_rate, beta):\n",
    "    mean_squared_x, mean_squared_y = 1., 1.\n",
    "    def optimize(pt):\n",
    "        nonlocal mean_squared_x, mean_squared_y\n",
    "        grad_x, grad_y = grad_f(*pt)\n",
    "        mean_squared_x = beta * mean_squared_x + (1 - beta) * (grad_x ** 2)\n",
    "        mean_squared_y = beta * mean_squared_y + (1 - beta) * (grad_y ** 2)\n",
    "        mean_squared = np.array([mean_squared_x, mean_squared_y])\n",
    "        return pt - (learning_rate / np.sqrt(mean_squared)) * grad_f(*pt)\n",
    "        \n",
    "    return optimize"
   ]
  },
  {
   "cell_type": "code",
   "execution_count": null,
   "id": "requested-stylus",
   "metadata": {},
   "outputs": [],
   "source": [
    "def ADAM(learning_rate, beta_1, beta_2, eps=1e-7):\n",
    "    m, v, t = np.array([0., 0.]), np.array([0., 0.]), 1.\n",
    "    def optimize(pt):\n",
    "        nonlocal m, v, t\n",
    "        m = (beta_1 * m) + (1 - beta_1) * grad_f(*pt)\n",
    "        v = (beta_2 * v) + (1 - beta_2) * (grad_f(*pt) ** 2)\n",
    "        m_hat = m / (1 - beta_1 ** t)\n",
    "        v_hat = v / (1 - beta_2 ** t) \n",
    "        t += 1\n",
    "        return pt - learning_rate * (m_hat / np.sqrt(v_hat + eps))\n",
    "        \n",
    "    return optimize"
   ]
  },
  {
   "cell_type": "markdown",
   "id": "explicit-subdivision",
   "metadata": {},
   "source": [
    "### Generating Data to be used for Animation"
   ]
  },
  {
   "cell_type": "code",
   "execution_count": null,
   "id": "premier-exclusion",
   "metadata": {},
   "outputs": [],
   "source": [
    "def gen_data(num_iters, pt, opt):\n",
    "    data = []  \n",
    "    for _ in range(num_iters):\n",
    "        new_data = [*pt, f(*pt)]\n",
    "        data.append(new_data)\n",
    "        pt = opt(pt)\n",
    "    \n",
    "    return np.array(data).T"
   ]
  },
  {
   "cell_type": "code",
   "execution_count": null,
   "id": "temporal-learning",
   "metadata": {},
   "outputs": [],
   "source": [
    "num_iters = 1000"
   ]
  },
  {
   "cell_type": "code",
   "execution_count": null,
   "id": "rapid-meeting",
   "metadata": {},
   "outputs": [],
   "source": [
    "learning_rate = 1e-2\n",
    "sgd = SGD(learning_rate)"
   ]
  },
  {
   "cell_type": "code",
   "execution_count": null,
   "id": "negative-anchor",
   "metadata": {},
   "outputs": [],
   "source": [
    "learning_rate, beta = 1e-2, 0.9\n",
    "sgd_momentum = SGD_momentum(learning_rate, beta)"
   ]
  },
  {
   "cell_type": "code",
   "execution_count": null,
   "id": "communist-chosen",
   "metadata": {},
   "outputs": [],
   "source": [
    "learning_rate, beta = 1e-2, 0.9\n",
    "sgd_nestorov = SGD_nestorov(learning_rate, beta)"
   ]
  },
  {
   "cell_type": "code",
   "execution_count": null,
   "id": "cognitive-party",
   "metadata": {},
   "outputs": [],
   "source": [
    "learning_rate, beta = 1e-2, 0.9\n",
    "rms_prop = RMS_prop(learning_rate, beta)"
   ]
  },
  {
   "cell_type": "code",
   "execution_count": null,
   "id": "checked-coordinate",
   "metadata": {},
   "outputs": [],
   "source": [
    "learning_rate, beta_1, beta_2, eps = 1e-2, 0.9, 0.99, 1e-4\n",
    "adam = ADAM(learning_rate, beta_1, beta_2, eps)"
   ]
  },
  {
   "cell_type": "code",
   "execution_count": null,
   "id": "consolidated-preparation",
   "metadata": {},
   "outputs": [],
   "source": [
    "sgd_pt = np.array([1,1])\n",
    "sgd_data = gen_data(num_iters, sgd_pt, sgd)\n",
    "\n",
    "sgd_mom_pt = np.array([-1, -1])\n",
    "sgd_mom_data = gen_data(num_iters, sgd_mom_pt, sgd_momentum)\n",
    "\n",
    "sgd_nes_pt = np.array([-1, -1])\n",
    "sgd_nes_data = gen_data(num_iters, sgd_nes_pt, sgd_nestorov)\n",
    "\n",
    "rms_pt = np.array([1, -1])\n",
    "rms_data = gen_data(num_iters, rms_pt, rms_prop)\n",
    "\n",
    "adam_pt = np.array([-1, 1])\n",
    "adam_data = gen_data(num_iters, adam_pt, adam)\n",
    "\n"
   ]
  },
  {
   "cell_type": "code",
   "execution_count": null,
   "id": "specified-murray",
   "metadata": {},
   "outputs": [],
   "source": [
    "x = np.linspace(-1, 1, 30)\n",
    "y = np.linspace(-1, 1, 30)\n",
    "\n",
    "X, Y = np.meshgrid(x, y)\n",
    "Z = f(X, Y)\n",
    "\n",
    "fig = plt.figure(figsize=(8, 8))\n",
    "ax = plt.axes(projection='3d')\n",
    "ax.contour3D(X, Y, Z, 40, cmap='Blues')\n",
    "ax.view_init(75, 0)\n",
    "\n",
    "ax.set_xlabel('x')\n",
    "ax.set_ylabel('y')\n",
    "ax.set_zlabel('z')\n",
    "ax.set_title('Optimizer visualization: $\\mathcal{L} = (x \\div 4)^{2} + (y \\div 2)^{2}: \\lambda = 1e-3$')\n",
    "\n",
    "sgd_line, = ax.plot(sgd_data[0, 0:1], sgd_data[1, 0:1], sgd_data[2, 0:1], label='sgd', color='r')\n",
    "sgd_mom_line, = ax.plot(sgd_mom_data[0, 0:1], sgd_mom_data[1, 0:1], sgd_mom_data[2, 0:1], label='sgd momentum', color='b')\n",
    "sgd_nes_line, = ax.plot(sgd_nes_data[0, 0:1], sgd_nes_data[1, 0:1], sgd_nes_data[2, 0:1], label='nesterov sgd', color='g')\n",
    "rms_line, = ax.plot(rms_data[0, 0:1], rms_data[1, 0:1], rms_data[2, 0:1], label='rms prop', color='m')\n",
    "adam_line, = ax.plot(adam_data[0, 0:1], adam_data[1, 0:1], adam_data[2, 0:1], label='adam', color='c')\n",
    "ax.legend()\n",
    "\n",
    "opt_data = [(sgd_line, sgd_data), \n",
    "            (sgd_mom_line, sgd_mom_data), \n",
    "            (sgd_nes_line, sgd_nes_data), \n",
    "            (rms_line, rms_data), \n",
    "            (adam_line, adam_data),]\n",
    "\n",
    "def update(num, opt_data):\n",
    "    for line, data in opt_data:\n",
    "        line.set_data(data[:2, :num])\n",
    "        line.set_3d_properties(data[2, :num])\n",
    "    \n",
    "\n",
    "ani = FuncAnimation(fig, update, num_iters, fargs=(opt_data,), blit=False)\n",
    "plt.close()\n",
    "ani.save('opt.gif', PillowWriter(fps=60))\n",
    "\n",
    "\n",
    "#HTML(ani.to_jshtml())\n"
   ]
  }
 ],
 "metadata": {
  "kernelspec": {
   "display_name": "Python 3",
   "language": "python",
   "name": "python3"
  },
  "language_info": {
   "codemirror_mode": {
    "name": "ipython",
    "version": 3
   },
   "file_extension": ".py",
   "mimetype": "text/x-python",
   "name": "python",
   "nbconvert_exporter": "python",
   "pygments_lexer": "ipython3",
   "version": "3.9.2"
  }
 },
 "nbformat": 4,
 "nbformat_minor": 5
}
